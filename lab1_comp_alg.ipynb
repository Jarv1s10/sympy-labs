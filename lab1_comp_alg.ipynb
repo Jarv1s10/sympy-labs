{
 "cells": [
  {
   "cell_type": "code",
   "execution_count": 6,
   "metadata": {},
   "outputs": [],
   "source": [
    "import numpy as np\n",
    "import scipy as scp\n",
    "import math\n",
    "from sympy import *\n",
    "from decimal import Decimal\n",
    "import random\n",
    "from IPython.display import display"
   ]
  },
  {
   "cell_type": "markdown",
   "metadata": {},
   "source": [
    "# **#1** "
   ]
  },
  {
   "cell_type": "code",
   "execution_count": 7,
   "metadata": {},
   "outputs": [],
   "source": [
    "m = 341\n",
    "n = 4573\n",
    "k = 56737\n",
    "N = 20"
   ]
  },
  {
   "cell_type": "code",
   "execution_count": 8,
   "metadata": {},
   "outputs": [
    {
     "name": "stdout",
     "output_type": "stream",
     "text": [
      "False\n",
      "False\n",
      "True\n",
      "False\n"
     ]
    }
   ],
   "source": [
    "print(isprime(m))\n",
    "print(isprime(n))\n",
    "print(isprime(k))\n",
    "print(isprime(N))"
   ]
  },
  {
   "cell_type": "code",
   "execution_count": 9,
   "metadata": {},
   "outputs": [
    {
     "name": "stdout",
     "output_type": "stream",
     "text": [
      "[11, 31]\n",
      "[17, 269]\n",
      "[2, 5]\n"
     ]
    }
   ],
   "source": [
    "print(primefactors(m))\n",
    "print(primefactors(n))\n",
    "print(primefactors(N))"
   ]
  },
  {
   "cell_type": "code",
   "execution_count": 10,
   "metadata": {},
   "outputs": [
    {
     "data": {
      "text/plain": [
       "0"
      ]
     },
     "execution_count": 10,
     "metadata": {},
     "output_type": "execute_result"
    }
   ],
   "source": [
    "m//k"
   ]
  },
  {
   "cell_type": "code",
   "execution_count": 11,
   "metadata": {},
   "outputs": [
    {
     "data": {
      "text/plain": [
       "341"
      ]
     },
     "execution_count": 11,
     "metadata": {},
     "output_type": "execute_result"
    }
   ],
   "source": [
    "m%k"
   ]
  },
  {
   "cell_type": "code",
   "execution_count": 12,
   "metadata": {},
   "outputs": [
    {
     "data": {
      "text/latex": [
       "$\\displaystyle \\frac{40259646}{259458301}$"
      ],
      "text/plain": [
       "40259646/259458301"
      ]
     },
     "execution_count": 12,
     "metadata": {},
     "output_type": "execute_result"
    }
   ],
   "source": [
    "m_n = Rational(m,n)\n",
    "n_k = Rational(n,k)\n",
    "m_n + n_k"
   ]
  },
  {
   "cell_type": "code",
   "execution_count": 13,
   "metadata": {},
   "outputs": [
    {
     "data": {
      "text/latex": [
       "$\\displaystyle - \\frac{1565012}{259458301}$"
      ],
      "text/plain": [
       "-1565012/259458301"
      ]
     },
     "execution_count": 13,
     "metadata": {},
     "output_type": "execute_result"
    }
   ],
   "source": [
    "m_n - n_k"
   ]
  },
  {
   "cell_type": "code",
   "execution_count": 14,
   "metadata": {},
   "outputs": [
    {
     "data": {
      "text/plain": [
       "0.07457"
      ]
     },
     "execution_count": 14,
     "metadata": {},
     "output_type": "execute_result"
    }
   ],
   "source": [
    "round(m/n, 5)"
   ]
  },
  {
   "cell_type": "code",
   "execution_count": 15,
   "metadata": {},
   "outputs": [
    {
     "data": {
      "text/plain": [
       "['2.7484586778', '01']"
      ]
     },
     "execution_count": 15,
     "metadata": {},
     "output_type": "execute_result"
    }
   ],
   "source": [
    "format(m*n/k, '.10e').split('e+')"
   ]
  },
  {
   "cell_type": "code",
   "execution_count": 16,
   "metadata": {},
   "outputs": [
    {
     "data": {
      "text/plain": [
       "2"
      ]
     },
     "execution_count": 16,
     "metadata": {},
     "output_type": "execute_result"
    }
   ],
   "source": [
    "int(format(m/n, '.{}f'.format(N))[-1])"
   ]
  },
  {
   "cell_type": "markdown",
   "metadata": {},
   "source": [
    "# **#2**"
   ]
  },
  {
   "cell_type": "code",
   "execution_count": 17,
   "metadata": {},
   "outputs": [],
   "source": [
    "z1 = Rational(1,2)+3*I\n",
    "z2 = 1-2*I"
   ]
  },
  {
   "cell_type": "code",
   "execution_count": 18,
   "metadata": {},
   "outputs": [
    {
     "data": {
      "text/latex": [
       "$\\displaystyle \\frac{3}{2} + i$"
      ],
      "text/plain": [
       "3/2 + I"
      ]
     },
     "execution_count": 18,
     "metadata": {},
     "output_type": "execute_result"
    }
   ],
   "source": [
    "z1+z2"
   ]
  },
  {
   "cell_type": "code",
   "execution_count": 19,
   "metadata": {},
   "outputs": [
    {
     "data": {
      "text/latex": [
       "$\\displaystyle - \\frac{1}{2} + 5 i$"
      ],
      "text/plain": [
       "-1/2 + 5*I"
      ]
     },
     "execution_count": 19,
     "metadata": {},
     "output_type": "execute_result"
    }
   ],
   "source": [
    "z1-z2"
   ]
  },
  {
   "cell_type": "code",
   "execution_count": 20,
   "metadata": {},
   "outputs": [
    {
     "data": {
      "text/latex": [
       "$\\displaystyle \\frac{13}{2} + 2 i$"
      ],
      "text/plain": [
       "13/2 + 2*I"
      ]
     },
     "execution_count": 20,
     "metadata": {},
     "output_type": "execute_result"
    }
   ],
   "source": [
    "simplify(z1*z2)"
   ]
  },
  {
   "cell_type": "code",
   "execution_count": 21,
   "metadata": {},
   "outputs": [
    {
     "data": {
      "text/latex": [
       "$\\displaystyle - \\frac{11}{10} + \\frac{4 i}{5}$"
      ],
      "text/plain": [
       "-11/10 + 4*I/5"
      ]
     },
     "execution_count": 21,
     "metadata": {},
     "output_type": "execute_result"
    }
   ],
   "source": [
    "simplify(z1/z2)"
   ]
  },
  {
   "cell_type": "code",
   "execution_count": 22,
   "metadata": {},
   "outputs": [
    {
     "data": {
      "text/latex": [
       "$\\displaystyle \\frac{\\sqrt{37}}{2}$"
      ],
      "text/plain": [
       "sqrt(37)/2"
      ]
     },
     "execution_count": 22,
     "metadata": {},
     "output_type": "execute_result"
    }
   ],
   "source": [
    "abs(z1)"
   ]
  },
  {
   "cell_type": "code",
   "execution_count": 23,
   "metadata": {},
   "outputs": [
    {
     "data": {
      "text/latex": [
       "$\\displaystyle \\operatorname{atan}{\\left(6 \\right)}$"
      ],
      "text/plain": [
       "atan(6)"
      ]
     },
     "execution_count": 23,
     "metadata": {},
     "output_type": "execute_result"
    }
   ],
   "source": [
    "arg(z1)"
   ]
  },
  {
   "cell_type": "code",
   "execution_count": 24,
   "metadata": {},
   "outputs": [
    {
     "data": {
      "text/latex": [
       "$\\displaystyle 1 + 2 i$"
      ],
      "text/plain": [
       "1 + 2*I"
      ]
     },
     "execution_count": 24,
     "metadata": {},
     "output_type": "execute_result"
    }
   ],
   "source": [
    "y2 = conjugate(z2)\n",
    "y2"
   ]
  },
  {
   "cell_type": "code",
   "execution_count": 25,
   "metadata": {},
   "outputs": [
    {
     "data": {
      "text/plain": [
       "True"
      ]
     },
     "execution_count": 25,
     "metadata": {},
     "output_type": "execute_result"
    }
   ],
   "source": [
    "simplify(abs(z2)**2-y2*z2) == 0"
   ]
  },
  {
   "cell_type": "markdown",
   "metadata": {},
   "source": [
    "# **#3**"
   ]
  },
  {
   "cell_type": "code",
   "execution_count": 26,
   "metadata": {},
   "outputs": [],
   "source": [
    "name = 'Danylo'\n",
    "lastName = 'Kielsa'\n",
    "middleName = 'Yuriyovych'\n",
    "x, N, i, j = pi, 20, 2, 1"
   ]
  },
  {
   "cell_type": "code",
   "execution_count": 27,
   "metadata": {},
   "outputs": [
    {
     "name": "stdout",
     "output_type": "stream",
     "text": [
      "6\n",
      "6\n",
      "10\n"
     ]
    }
   ],
   "source": [
    "print(len(name))\n",
    "print(len(lastName))\n",
    "print(len(middleName))"
   ]
  },
  {
   "cell_type": "code",
   "execution_count": 28,
   "metadata": {},
   "outputs": [
    {
     "data": {
      "text/plain": [
       "'DanyloYuriyovychKielsa'"
      ]
     },
     "execution_count": 28,
     "metadata": {},
     "output_type": "execute_result"
    }
   ],
   "source": [
    "fullName = name + middleName + lastName\n",
    "fullName"
   ]
  },
  {
   "cell_type": "code",
   "execution_count": 29,
   "metadata": {},
   "outputs": [
    {
     "data": {
      "text/plain": [
       "'nylolsa'"
      ]
     },
     "execution_count": 29,
     "metadata": {},
     "output_type": "execute_result"
    }
   ],
   "source": [
    "fullName[2:6]+fullName[-3:]"
   ]
  },
  {
   "cell_type": "code",
   "execution_count": 30,
   "metadata": {},
   "outputs": [
    {
     "data": {
      "text/plain": [
       "'K.D.Y'"
      ]
     },
     "execution_count": 30,
     "metadata": {},
     "output_type": "execute_result"
    }
   ],
   "source": [
    "initials = '.'.join([lastName[0], name[0], middleName[0]])\n",
    "initials"
   ]
  },
  {
   "cell_type": "code",
   "execution_count": 31,
   "metadata": {},
   "outputs": [
    {
     "data": {
      "text/plain": [
       "'a..o'"
      ]
     },
     "execution_count": 31,
     "metadata": {},
     "output_type": "execute_result"
    }
   ],
   "source": [
    "name[i-1]+'..'+name[-j]"
   ]
  },
  {
   "cell_type": "code",
   "execution_count": 32,
   "metadata": {},
   "outputs": [
    {
     "data": {
      "text/plain": [
       "6"
      ]
     },
     "execution_count": 32,
     "metadata": {},
     "output_type": "execute_result"
    }
   ],
   "source": [
    "int(str((x).evalf(N+2))[-2])"
   ]
  },
  {
   "cell_type": "markdown",
   "metadata": {},
   "source": [
    "# **#4**"
   ]
  },
  {
   "cell_type": "code",
   "execution_count": 33,
   "metadata": {},
   "outputs": [
    {
     "data": {
      "text/latex": [
       "$\\displaystyle \\frac{\\operatorname{atan}{\\left(x^{2} + 3^{- x} \\right)}}{\\cos^{2}{\\left(\\log{\\left(\\sqrt[3]{x} + x \\right)} \\right)}}$"
      ],
      "text/plain": [
       "atan(x**2 + 3**(-x))/cos(log(x**(1/3) + x))**2"
      ]
     },
     "execution_count": 33,
     "metadata": {},
     "output_type": "execute_result"
    }
   ],
   "source": [
    "x = Symbol('x')\n",
    "f = atan(x**2 + 3**(-x))/cos(log(x+x**(Rational(1,3))))**2\n",
    "f"
   ]
  },
  {
   "cell_type": "markdown",
   "metadata": {},
   "source": [
    "# **#5**"
   ]
  },
  {
   "cell_type": "code",
   "execution_count": 34,
   "metadata": {},
   "outputs": [
    {
     "data": {
      "text/latex": [
       "$\\displaystyle \\begin{cases} \\cos{\\left(x \\right)} & \\text{for}\\: x < - \\pi \\\\- \\frac{\\left|{x}\\right|}{\\pi} + 1 & \\text{for}\\: x \\leq \\pi \\\\\\cos{\\left(x \\right)} & \\text{otherwise} \\end{cases}$"
      ],
      "text/plain": [
       "Piecewise((cos(x), x < -pi), (-Abs(x)/pi + 1, x <= pi), (cos(x), True))"
      ]
     },
     "execution_count": 34,
     "metadata": {},
     "output_type": "execute_result"
    }
   ],
   "source": [
    "x = Symbol('x')\n",
    "Piecewise((cos(x), x < -pi), (1-abs(x/pi), x<=pi), (cos(x), x>pi))"
   ]
  },
  {
   "cell_type": "markdown",
   "metadata": {},
   "source": [
    "# **#6**"
   ]
  },
  {
   "cell_type": "code",
   "execution_count": 35,
   "metadata": {},
   "outputs": [
    {
     "data": {
      "text/latex": [
       "$\\displaystyle \\left[\\frac{\\sin{\\left(x \\right)}}{x}, \\frac{\\sin{\\left(2 x \\right)}}{2 x}, \\frac{\\sin{\\left(3 x \\right)}}{3 x}, \\frac{\\sin{\\left(4 x \\right)}}{4 x}, \\ldots\\right]$"
      ],
      "text/plain": [
       "SeqFormula(sin(n*x)/(n*x), (n, 1, oo))"
      ]
     },
     "execution_count": 35,
     "metadata": {},
     "output_type": "execute_result"
    }
   ],
   "source": [
    "n = Symbol('n')\n",
    "x = Symbol('x')\n",
    "sq = sequence(sin(n*x)/(n*x), (n, 1, oo))\n",
    "sq"
   ]
  },
  {
   "cell_type": "markdown",
   "metadata": {},
   "source": [
    "# **#7**"
   ]
  },
  {
   "cell_type": "code",
   "execution_count": 36,
   "metadata": {},
   "outputs": [
    {
     "name": "stdout",
     "output_type": "stream",
     "text": [
      "⎡sin(2⋅x)⎤\n",
      "⎢────────⎥\n",
      "⎣  2⋅x   ⎦\n"
     ]
    }
   ],
   "source": [
    "pprint([expr for expr in sq[:100] if expr.has(2)])"
   ]
  },
  {
   "cell_type": "code",
   "execution_count": 37,
   "metadata": {},
   "outputs": [
    {
     "name": "stdout",
     "output_type": "stream",
     "text": [
      "⎡sin(3⋅x)  sin(6⋅x)  sin(9⋅x)  sin(12⋅x)  sin(15⋅x)  sin(18⋅x)  sin(21⋅x)  sin\n",
      "⎢────────, ────────, ────────, ─────────, ─────────, ─────────, ─────────, ───\n",
      "⎣  3⋅x       6⋅x       9⋅x        12⋅x       15⋅x       18⋅x       21⋅x       \n",
      "\n",
      "(24⋅x)  sin(27⋅x)  sin(30⋅x)  sin(33⋅x)  sin(36⋅x)  sin(39⋅x)  sin(42⋅x)  sin(\n",
      "──────, ─────────, ─────────, ─────────, ─────────, ─────────, ─────────, ────\n",
      "24⋅x       27⋅x       30⋅x       33⋅x       36⋅x       39⋅x       42⋅x       4\n",
      "\n",
      "45⋅x)  sin(48⋅x)  sin(51⋅x)  sin(54⋅x)  sin(57⋅x)  sin(60⋅x)  sin(63⋅x)  sin(6\n",
      "─────, ─────────, ─────────, ─────────, ─────────, ─────────, ─────────, ─────\n",
      "5⋅x       48⋅x       51⋅x       54⋅x       57⋅x       60⋅x       63⋅x       66\n",
      "\n",
      "6⋅x)  sin(69⋅x)  sin(72⋅x)  sin(75⋅x)  sin(78⋅x)  sin(81⋅x)  sin(84⋅x)  sin(87\n",
      "────, ─────────, ─────────, ─────────, ─────────, ─────────, ─────────, ──────\n",
      "⋅x       69⋅x       72⋅x       75⋅x       78⋅x       81⋅x       84⋅x       87⋅\n",
      "\n",
      "⋅x)  sin(90⋅x)  sin(93⋅x)  sin(96⋅x)  sin(99⋅x)⎤\n",
      "───, ─────────, ─────────, ─────────, ─────────⎥\n",
      "x       90⋅x       93⋅x       96⋅x       99⋅x  ⎦\n"
     ]
    }
   ],
   "source": [
    "variant = 3\n",
    "pprint([expr for expr in sq[1:100] if expr.args[2].args[0].args[0]%variant==0])"
   ]
  },
  {
   "cell_type": "markdown",
   "metadata": {},
   "source": [
    "# **#8**"
   ]
  },
  {
   "cell_type": "code",
   "execution_count": 38,
   "metadata": {},
   "outputs": [
    {
     "data": {
      "text/latex": [
       "$\\displaystyle \\frac{\\sin{\\left(x \\right)}}{x}$"
      ],
      "text/plain": [
       "sin(x)/x"
      ]
     },
     "metadata": {},
     "output_type": "display_data"
    },
    {
     "data": {
      "text/latex": [
       "$\\displaystyle \\frac{\\sin{\\left(2 x \\right)}}{2 x}$"
      ],
      "text/plain": [
       "sin(2*x)/(2*x)"
      ]
     },
     "metadata": {},
     "output_type": "display_data"
    },
    {
     "data": {
      "text/latex": [
       "$\\displaystyle \\frac{\\sin{\\left(3 x \\right)}}{3 x}$"
      ],
      "text/plain": [
       "sin(3*x)/(3*x)"
      ]
     },
     "metadata": {},
     "output_type": "display_data"
    },
    {
     "data": {
      "text/latex": [
       "$\\displaystyle \\frac{\\sin{\\left(4 x \\right)}}{4 x}$"
      ],
      "text/plain": [
       "sin(4*x)/(4*x)"
      ]
     },
     "metadata": {},
     "output_type": "display_data"
    },
    {
     "data": {
      "text/latex": [
       "$\\displaystyle \\frac{\\sin{\\left(5 x \\right)}}{5 x}$"
      ],
      "text/plain": [
       "sin(5*x)/(5*x)"
      ]
     },
     "metadata": {},
     "output_type": "display_data"
    },
    {
     "data": {
      "text/latex": [
       "$\\displaystyle \\frac{\\sin{\\left(6 x \\right)}}{6 x}$"
      ],
      "text/plain": [
       "sin(6*x)/(6*x)"
      ]
     },
     "metadata": {},
     "output_type": "display_data"
    },
    {
     "data": {
      "text/latex": [
       "$\\displaystyle \\frac{\\sin{\\left(7 x \\right)}}{7 x}$"
      ],
      "text/plain": [
       "sin(7*x)/(7*x)"
      ]
     },
     "metadata": {},
     "output_type": "display_data"
    },
    {
     "data": {
      "text/latex": [
       "$\\displaystyle \\frac{\\sin{\\left(8 x \\right)}}{8 x}$"
      ],
      "text/plain": [
       "sin(8*x)/(8*x)"
      ]
     },
     "metadata": {},
     "output_type": "display_data"
    },
    {
     "data": {
      "text/latex": [
       "$\\displaystyle \\frac{\\sin{\\left(9 x \\right)}}{9 x}$"
      ],
      "text/plain": [
       "sin(9*x)/(9*x)"
      ]
     },
     "metadata": {},
     "output_type": "display_data"
    },
    {
     "data": {
      "text/latex": [
       "$\\displaystyle \\frac{\\sin{\\left(10 x \\right)}}{10 x}$"
      ],
      "text/plain": [
       "sin(10*x)/(10*x)"
      ]
     },
     "metadata": {},
     "output_type": "display_data"
    },
    {
     "data": {
      "text/latex": [
       "$\\displaystyle \\frac{\\sin{\\left(11 x \\right)}}{11 x}$"
      ],
      "text/plain": [
       "sin(11*x)/(11*x)"
      ]
     },
     "metadata": {},
     "output_type": "display_data"
    },
    {
     "data": {
      "text/latex": [
       "$\\displaystyle \\frac{\\sin{\\left(12 x \\right)}}{12 x}$"
      ],
      "text/plain": [
       "sin(12*x)/(12*x)"
      ]
     },
     "metadata": {},
     "output_type": "display_data"
    },
    {
     "data": {
      "text/latex": [
       "$\\displaystyle \\frac{\\sin{\\left(2 x \\right)}}{2 x} + \\frac{\\sin{\\left(7 x \\right)}}{7 x} + \\frac{\\sin{\\left(9 x \\right)}}{9 x}$"
      ],
      "text/plain": [
       "sin(2*x)/(2*x) + sin(7*x)/(7*x) + sin(9*x)/(9*x)"
      ]
     },
     "execution_count": 38,
     "metadata": {},
     "output_type": "execute_result"
    }
   ],
   "source": [
    "variant = 1\n",
    "sqlist = list(sq[variant-1:variant+11])\n",
    "for s in sqlist:\n",
    "    display(s)\n",
    "Add(sqlist[1], sqlist[6], sqlist[8])"
   ]
  },
  {
   "cell_type": "code",
   "execution_count": 35,
   "metadata": {},
   "outputs": [
    {
     "data": {
      "text/latex": [
       "$\\displaystyle \\frac{9 \\sin{\\left(5 x \\right)}}{5 \\sin{\\left(9 x \\right)}}$"
      ],
      "text/plain": [
       "9*sin(5*x)/(5*sin(9*x))"
      ]
     },
     "execution_count": 35,
     "metadata": {},
     "output_type": "execute_result"
    }
   ],
   "source": [
    "simplify(sqlist[4]/sqlist[8])"
   ]
  },
  {
   "cell_type": "code",
   "execution_count": 39,
   "metadata": {},
   "outputs": [
    {
     "data": {
      "text/latex": [
       "$\\displaystyle \\frac{\\sin{\\left(x \\right)}}{x}$"
      ],
      "text/plain": [
       "sin(x)/x"
      ]
     },
     "metadata": {},
     "output_type": "display_data"
    },
    {
     "data": {
      "text/latex": [
       "$\\displaystyle \\frac{\\sin{\\left(2 x \\right)}}{2 x}$"
      ],
      "text/plain": [
       "sin(2*x)/(2*x)"
      ]
     },
     "metadata": {},
     "output_type": "display_data"
    },
    {
     "data": {
      "text/latex": [
       "$\\displaystyle \\frac{\\sin{\\left(3 x \\right)}}{3 x}$"
      ],
      "text/plain": [
       "sin(3*x)/(3*x)"
      ]
     },
     "metadata": {},
     "output_type": "display_data"
    },
    {
     "data": {
      "text/latex": [
       "$\\displaystyle \\frac{\\sin{\\left(4 x \\right)}}{4 x}$"
      ],
      "text/plain": [
       "sin(4*x)/(4*x)"
      ]
     },
     "metadata": {},
     "output_type": "display_data"
    },
    {
     "data": {
      "text/latex": [
       "$\\displaystyle \\frac{\\sin{\\left(5 x \\right)}}{5 x}$"
      ],
      "text/plain": [
       "sin(5*x)/(5*x)"
      ]
     },
     "metadata": {},
     "output_type": "display_data"
    },
    {
     "data": {
      "text/latex": [
       "$\\displaystyle \\frac{\\sin{\\left(6 x \\right)}}{6 x}$"
      ],
      "text/plain": [
       "sin(6*x)/(6*x)"
      ]
     },
     "metadata": {},
     "output_type": "display_data"
    },
    {
     "data": {
      "text/latex": [
       "$\\displaystyle \\frac{\\sin{\\left(7 x \\right)}}{7 x}$"
      ],
      "text/plain": [
       "sin(7*x)/(7*x)"
      ]
     },
     "metadata": {},
     "output_type": "display_data"
    },
    {
     "data": {
      "text/latex": [
       "$\\displaystyle \\frac{\\sin{\\left(8 x \\right)}}{8 x}$"
      ],
      "text/plain": [
       "sin(8*x)/(8*x)"
      ]
     },
     "metadata": {},
     "output_type": "display_data"
    },
    {
     "data": {
      "text/latex": [
       "$\\displaystyle \\frac{\\sin{\\left(9 x \\right)}}{9 x}$"
      ],
      "text/plain": [
       "sin(9*x)/(9*x)"
      ]
     },
     "metadata": {},
     "output_type": "display_data"
    },
    {
     "data": {
      "text/latex": [
       "$\\displaystyle \\frac{\\sin{\\left(10 x \\right)}}{10 x}$"
      ],
      "text/plain": [
       "sin(10*x)/(10*x)"
      ]
     },
     "metadata": {},
     "output_type": "display_data"
    },
    {
     "data": {
      "text/latex": [
       "$\\displaystyle \\frac{\\sin{\\left(11 x \\right)}}{11 x}$"
      ],
      "text/plain": [
       "sin(11*x)/(11*x)"
      ]
     },
     "metadata": {},
     "output_type": "display_data"
    },
    {
     "data": {
      "text/latex": [
       "$\\displaystyle \\frac{\\sin{\\left(12 x \\right)}}{12 x}$"
      ],
      "text/plain": [
       "sin(12*x)/(12*x)"
      ]
     },
     "metadata": {},
     "output_type": "display_data"
    },
    {
     "data": {
      "text/latex": [
       "$\\displaystyle \\frac{9 \\sin{\\left(5 x \\right)}}{5 \\sin{\\left(9 x \\right)}}$"
      ],
      "text/plain": [
       "9*sin(5*x)/(5*sin(9*x))"
      ]
     },
     "metadata": {},
     "output_type": "display_data"
    }
   ],
   "source": [
    "sqlist.append(simplify(sqlist[4]/sqlist[8]))\n",
    "for s in sqlist:\n",
    "    display(s)"
   ]
  },
  {
   "cell_type": "markdown",
   "metadata": {},
   "source": [
    "# **#9**"
   ]
  },
  {
   "cell_type": "code",
   "execution_count": 37,
   "metadata": {},
   "outputs": [
    {
     "data": {
      "text/latex": [
       "$\\displaystyle \\left[1, \\frac{1}{4}, \\frac{1}{9}, \\frac{1}{16}, \\ldots\\right]$"
      ],
      "text/plain": [
       "SeqFormula(i**(-2), (i, 1, 10))"
      ]
     },
     "execution_count": 37,
     "metadata": {},
     "output_type": "execute_result"
    }
   ],
   "source": [
    "N = 10\n",
    "i = Symbol('i')\n",
    "x_i = sequence(1/i**2, (i, 1, N))\n",
    "x_i"
   ]
  },
  {
   "cell_type": "code",
   "execution_count": 38,
   "metadata": {},
   "outputs": [
    {
     "data": {
      "text/plain": [
       "[1, 4, 1/9, 1/16, 1/25, 1/36, 1/49, 1/64, 81, 1/100]"
      ]
     },
     "execution_count": 38,
     "metadata": {},
     "output_type": "execute_result"
    }
   ],
   "source": [
    "y_i = list(x_i)\n",
    "y_i[1], y_i[-2] = 1/y_i[1], 1/y_i[-2]\n",
    "y_i"
   ]
  },
  {
   "cell_type": "code",
   "execution_count": 39,
   "metadata": {},
   "outputs": [
    {
     "data": {
      "text/latex": [
       "$\\displaystyle \\frac{846385}{104976}$"
      ],
      "text/plain": [
       "846385/104976"
      ]
     },
     "execution_count": 39,
     "metadata": {},
     "output_type": "execute_result"
    }
   ],
   "source": [
    "sum(x/y for x, y in zip(list(x_i), y_i))"
   ]
  },
  {
   "cell_type": "markdown",
   "metadata": {},
   "source": [
    "# **#10**"
   ]
  },
  {
   "cell_type": "code",
   "execution_count": 40,
   "metadata": {},
   "outputs": [
    {
     "data": {
      "text/plain": [
       "[25, 37, 116, 103, 41, 91, 9, 137, 24, 89]"
      ]
     },
     "execution_count": 40,
     "metadata": {},
     "output_type": "execute_result"
    }
   ],
   "source": [
    "N = 10\n",
    "p = 5\n",
    "q = 150\n",
    "rands = [random.randint(p, q) for _ in range(N)]\n",
    "rands"
   ]
  },
  {
   "cell_type": "code",
   "execution_count": 41,
   "metadata": {},
   "outputs": [
    {
     "name": "stdout",
     "output_type": "stream",
     "text": [
      "[37, 103, 41, 137, 89]\t[25, 116, 91, 9, 24]\n"
     ]
    }
   ],
   "source": [
    "primes = [num for num in rands if isprime(num)]\n",
    "nonprimes = [num for num in rands if not isprime(num)]\n",
    "print(primes, nonprimes, sep = '\\t')"
   ]
  },
  {
   "cell_type": "code",
   "execution_count": 42,
   "metadata": {},
   "outputs": [
    {
     "data": {
      "text/plain": [
       "[10, 33, 20, 6, 9]"
      ]
     },
     "execution_count": 42,
     "metadata": {},
     "output_type": "execute_result"
    }
   ],
   "source": [
    "[sum(factorint(num, multiple=True)) for num in nonprimes]"
   ]
  },
  {
   "cell_type": "markdown",
   "metadata": {},
   "source": [
    "# **#11**"
   ]
  },
  {
   "cell_type": "code",
   "execution_count": 43,
   "metadata": {},
   "outputs": [],
   "source": [
    "A = set(symbols('a b g r p q'))\n",
    "B = set(symbols('y g s p v'))"
   ]
  },
  {
   "cell_type": "code",
   "execution_count": 44,
   "metadata": {},
   "outputs": [
    {
     "name": "stdout",
     "output_type": "stream",
     "text": [
      "Union : {s, b, q, r, y, a, p, v, g}\n",
      "Intersection : {p, g}\n",
      "Difference : {q, r, a, b}\n"
     ]
    }
   ],
   "source": [
    "print(\"Union :\", A | B) \n",
    "print(\"Intersection :\", A & B) \n",
    "print(\"Difference :\", A - B) "
   ]
  },
  {
   "cell_type": "markdown",
   "metadata": {},
   "source": [
    "# **#12**"
   ]
  },
  {
   "cell_type": "code",
   "execution_count": 45,
   "metadata": {},
   "outputs": [
    {
     "data": {
      "text/latex": [
       "$\\displaystyle \\left[\\begin{matrix}1 & 8 & 27 & 64\\\\\\frac{1}{2} & 4 & \\frac{27}{2} & 32\\\\\\frac{1}{3} & \\frac{8}{3} & 9 & \\frac{64}{3}\\\\\\frac{1}{4} & 2 & \\frac{27}{4} & 16\\\\\\frac{1}{5} & \\frac{8}{5} & \\frac{27}{5} & \\frac{64}{5}\\end{matrix}\\right]$"
      ],
      "text/plain": [
       "Matrix([\n",
       "[  1,   8,   27,   64],\n",
       "[1/2,   4, 27/2,   32],\n",
       "[1/3, 8/3,    9, 64/3],\n",
       "[1/4,   2, 27/4,   16],\n",
       "[1/5, 8/5, 27/5, 64/5]])"
      ]
     },
     "execution_count": 45,
     "metadata": {},
     "output_type": "execute_result"
    }
   ],
   "source": [
    "matr = Matrix([[Rational(i**3, j) for i in range(1, 5)] for j in range(1, 6)])\n",
    "matr"
   ]
  },
  {
   "cell_type": "code",
   "execution_count": 46,
   "metadata": {},
   "outputs": [
    {
     "data": {
      "text/plain": [
       "(5, 4)"
      ]
     },
     "execution_count": 46,
     "metadata": {},
     "output_type": "execute_result"
    }
   ],
   "source": [
    "matr.shape"
   ]
  },
  {
   "cell_type": "markdown",
   "metadata": {},
   "source": [
    "# **#13**"
   ]
  },
  {
   "cell_type": "code",
   "execution_count": 47,
   "metadata": {},
   "outputs": [
    {
     "data": {
      "text/latex": [
       "$\\displaystyle \\left[\\begin{matrix}m_{11} & m_{12} & m_{13} & m_{14}\\\\m_{21} & m_{22} & m_{23} & m_{24}\\\\m_{31} & m_{32} & m_{33} & m_{34}\\\\m_{41} & m_{42} & m_{43} & m_{44}\\\\m_{51} & m_{52} & m_{53} & m_{54}\\end{matrix}\\right]$"
      ],
      "text/plain": [
       "Matrix([\n",
       "[m11, m12, m13, m14],\n",
       "[m21, m22, m23, m24],\n",
       "[m31, m32, m33, m34],\n",
       "[m41, m42, m43, m44],\n",
       "[m51, m52, m53, m54]])"
      ]
     },
     "execution_count": 47,
     "metadata": {},
     "output_type": "execute_result"
    }
   ],
   "source": [
    "symbMatr = Matrix([[Symbol('m'+str(j+1)+str(i+1)) for i in range(matr.shape[1])] for j in range(matr.shape[0])])\n",
    "symbMatr"
   ]
  },
  {
   "cell_type": "code",
   "execution_count": 48,
   "metadata": {},
   "outputs": [],
   "source": [
    "symbMatr[9] = matr[9]"
   ]
  },
  {
   "cell_type": "code",
   "execution_count": 49,
   "metadata": {},
   "outputs": [
    {
     "data": {
      "text/latex": [
       "$\\displaystyle \\left[\\begin{matrix}m_{11} & m_{12} & m_{13} & m_{14}\\\\m_{21} & m_{22} & m_{23} & m_{24}\\\\m_{31} & \\frac{8}{3} & m_{33} & m_{34}\\\\m_{41} & m_{42} & m_{43} & m_{44}\\\\m_{51} & m_{52} & m_{53} & m_{54}\\end{matrix}\\right]$"
      ],
      "text/plain": [
       "Matrix([\n",
       "[m11, m12, m13, m14],\n",
       "[m21, m22, m23, m24],\n",
       "[m31, 8/3, m33, m34],\n",
       "[m41, m42, m43, m44],\n",
       "[m51, m52, m53, m54]])"
      ]
     },
     "execution_count": 49,
     "metadata": {},
     "output_type": "execute_result"
    }
   ],
   "source": [
    "symbMatr"
   ]
  },
  {
   "cell_type": "markdown",
   "metadata": {},
   "source": [
    "# **#14**"
   ]
  },
  {
   "cell_type": "code",
   "execution_count": 50,
   "metadata": {},
   "outputs": [
    {
     "data": {
      "text/latex": [
       "$\\displaystyle \\frac{x y z + \\left(x + y\\right) \\left(x + z\\right) \\left(y + z\\right)}{x + y + z}$"
      ],
      "text/plain": [
       "(x*y*z + (x + y)*(x + z)*(y + z))/(x + y + z)"
      ]
     },
     "execution_count": 50,
     "metadata": {},
     "output_type": "execute_result"
    }
   ],
   "source": [
    "x, y, z = symbols('x y z')\n",
    "expr1 = ((y+x)*(x+z)*(z+y)+x*y*z)/(x+y+z)\n",
    "expr1"
   ]
  },
  {
   "cell_type": "code",
   "execution_count": 51,
   "metadata": {},
   "outputs": [
    {
     "data": {
      "text/latex": [
       "$\\displaystyle x y + x z + y z$"
      ],
      "text/plain": [
       "x*y + x*z + y*z"
      ]
     },
     "execution_count": 51,
     "metadata": {},
     "output_type": "execute_result"
    }
   ],
   "source": [
    "expr2 = x*z+y*z+x*y\n",
    "expr2"
   ]
  },
  {
   "cell_type": "code",
   "execution_count": 52,
   "metadata": {},
   "outputs": [
    {
     "data": {
      "text/plain": [
       "True"
      ]
     },
     "execution_count": 52,
     "metadata": {},
     "output_type": "execute_result"
    }
   ],
   "source": [
    "expr1.equals(expr2)"
   ]
  },
  {
   "cell_type": "markdown",
   "metadata": {},
   "source": [
    "# **#15**"
   ]
  },
  {
   "cell_type": "code",
   "execution_count": 53,
   "metadata": {},
   "outputs": [
    {
     "data": {
      "text/latex": [
       "$\\displaystyle \\frac{a}{2} + \\frac{b}{2} + \\frac{c}{2}$"
      ],
      "text/plain": [
       "a/2 + b/2 + c/2"
      ]
     },
     "execution_count": 53,
     "metadata": {},
     "output_type": "execute_result"
    }
   ],
   "source": [
    "a, b, c = symbols('a b c')\n",
    "simplify((a**3+b**3+c**3-3*a*b*c)/((a-b)**2+(b-c)**2+(c-a)**2))"
   ]
  },
  {
   "cell_type": "markdown",
   "metadata": {},
   "source": [
    "# **#16**"
   ]
  },
  {
   "cell_type": "code",
   "execution_count": 54,
   "metadata": {},
   "outputs": [
    {
     "data": {
      "text/plain": [
       "[True, True]"
      ]
     },
     "execution_count": 54,
     "metadata": {},
     "output_type": "execute_result"
    }
   ],
   "source": [
    "x, y, z = symbols('x y z')\n",
    "eq1 = Eq(x+y+z, 1)\n",
    "eq2 = Eq(1/x + 1/y + 1/z, 0)\n",
    "eq = Eq(x**2 + y**2 + z**2, 1)\n",
    "[eq.subs(i).expand() for i in solve((eq1, eq2))]\n",
    "#Thus, e3 is true for all values that satisfy e1 and e2"
   ]
  },
  {
   "cell_type": "markdown",
   "metadata": {},
   "source": [
    "# **#17**"
   ]
  },
  {
   "cell_type": "code",
   "execution_count": 55,
   "metadata": {},
   "outputs": [
    {
     "data": {
      "text/latex": [
       "$\\displaystyle \\frac{\\frac{1 - x}{- x^{2} - x + 1} + \\frac{x + 1}{x^{2} + x + 1}}{- \\frac{1 - x}{x^{2} - x + 1} + \\frac{x + 1}{x^{2} + x + 1}}$"
      ],
      "text/plain": [
       "((1 - x)/(-x**2 - x + 1) + (x + 1)/(x**2 + x + 1))/(-(1 - x)/(x**2 - x + 1) + (x + 1)/(x**2 + x + 1))"
      ]
     },
     "execution_count": 55,
     "metadata": {},
     "output_type": "execute_result"
    }
   ],
   "source": [
    "expr = ((1-x)/(1-x-x**2)+(1+x)/(1+x+x**2))/((1+x)/(1+x+x**2)-(1-x)/(1-x+x**2))\n",
    "expr"
   ]
  },
  {
   "cell_type": "code",
   "execution_count": 56,
   "metadata": {},
   "outputs": [
    {
     "data": {
      "text/latex": [
       "$\\displaystyle x^{2} + x + 1$"
      ],
      "text/plain": [
       "x**2 + x + 1"
      ]
     },
     "execution_count": 56,
     "metadata": {},
     "output_type": "execute_result"
    }
   ],
   "source": [
    "struct = expr.args[1].args[0].args[0].args[0]\n",
    "struct"
   ]
  },
  {
   "cell_type": "markdown",
   "metadata": {},
   "source": [
    "# **#18**"
   ]
  },
  {
   "cell_type": "code",
   "execution_count": 57,
   "metadata": {},
   "outputs": [
    {
     "data": {
      "text/latex": [
       "$\\displaystyle - \\sqrt[3]{2} \\left(\\frac{\\log{\\left(a^{2} - 1 \\right)}}{\\log{\\left(a \\right)}}\\right)^{\\frac{2}{3}}$"
      ],
      "text/plain": [
       "-2**(1/3)*(log(a**2 - 1)/log(a))**(2/3)"
      ]
     },
     "execution_count": 57,
     "metadata": {},
     "output_type": "execute_result"
    }
   ],
   "source": [
    "a = Symbol('a', positive=True)\n",
    "(log(sqrt(a**2-1), a)*log(sqrt(a**2-1), 1/a)/(log(sqrt(a**2-1), a**2)*log(sqrt(a**2-1), a)**Rational(1,3))).simplify()"
   ]
  },
  {
   "cell_type": "markdown",
   "metadata": {},
   "source": [
    "# **#19**"
   ]
  },
  {
   "cell_type": "code",
   "execution_count": 58,
   "metadata": {},
   "outputs": [
    {
     "data": {
      "text/latex": [
       "$\\displaystyle 0$"
      ],
      "text/plain": [
       "0"
      ]
     },
     "execution_count": 58,
     "metadata": {},
     "output_type": "execute_result"
    }
   ],
   "source": [
    "a = Symbol('alpha')\n",
    "simplify((sin(a)+2*sin(3*a)+sin(5*a))/(sin(3*a)+2*sin(5*a)+sin(7*a)) - sin(3*a)/sin(5*a))"
   ]
  }
 ],
 "metadata": {
  "celltoolbar": "Raw Cell Format",
  "kernelspec": {
   "display_name": "Python 3",
   "language": "python",
   "name": "python3"
  },
  "language_info": {
   "codemirror_mode": {
    "name": "ipython",
    "version": 3
   },
   "file_extension": ".py",
   "mimetype": "text/x-python",
   "name": "python",
   "nbconvert_exporter": "python",
   "pygments_lexer": "ipython3",
   "version": "3.7.6"
  }
 },
 "nbformat": 4,
 "nbformat_minor": 2
}
