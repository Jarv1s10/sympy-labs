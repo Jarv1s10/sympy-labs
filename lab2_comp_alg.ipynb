{
 "cells": [
  {
   "cell_type": "code",
   "execution_count": 2,
   "metadata": {},
   "outputs": [],
   "source": [
    "from sympy import *\n",
    "from IPython.display import display"
   ]
  },
  {
   "cell_type": "markdown",
   "metadata": {},
   "source": [
    "# **#1.2**\n",
    "* 2"
   ]
  },
  {
   "cell_type": "code",
   "execution_count": 3,
   "metadata": {},
   "outputs": [
    {
     "data": {
      "text/latex": [
       "$\\displaystyle \\frac{2^{n}}{n!}$"
      ],
      "text/plain": [
       "2**n/factorial(n)"
      ]
     },
     "metadata": {},
     "output_type": "display_data"
    },
    {
     "data": {
      "text/latex": [
       "$\\displaystyle 0$"
      ],
      "text/plain": [
       "0"
      ]
     },
     "execution_count": 3,
     "metadata": {},
     "output_type": "execute_result"
    }
   ],
   "source": [
    "n = Symbol('n', integer=True)\n",
    "sq = 2**n/factorial(n)\n",
    "display(sq)\n",
    "limit(sq, n, oo)"
   ]
  },
  {
   "cell_type": "markdown",
   "metadata": {},
   "source": [
    "# **#2.2**\n"
   ]
  },
  {
   "cell_type": "code",
   "execution_count": 6,
   "metadata": {},
   "outputs": [
    {
     "data": {
      "text/latex": [
       "$\\displaystyle \\frac{n x + \\sqrt{- n^{2} x^{2} + 1}}{x + \\sqrt{1 - x^{2}}}$"
      ],
      "text/plain": [
       "(n*x + sqrt(-n**2*x**2 + 1))/(x + sqrt(1 - x**2))"
      ]
     },
     "metadata": {},
     "output_type": "display_data"
    },
    {
     "data": {
      "text/latex": [
       "$\\displaystyle 1$"
      ],
      "text/plain": [
       "1"
      ]
     },
     "metadata": {},
     "output_type": "display_data"
    },
    {
     "data": {
      "text/latex": [
       "$\\displaystyle \\left(\\frac{\\sin{\\left(x \\right)}}{x}\\right)^{\\frac{1}{x^{2}}}$"
      ],
      "text/plain": [
       "(sin(x)/x)**(x**(-2))"
      ]
     },
     "metadata": {},
     "output_type": "display_data"
    },
    {
     "data": {
      "text/latex": [
       "$\\displaystyle e^{- \\frac{1}{6}}$"
      ],
      "text/plain": [
       "exp(-1/6)"
      ]
     },
     "metadata": {},
     "output_type": "display_data"
    }
   ],
   "source": [
    "x, n  =symbols('x n')\n",
    "func1 = (n*x + sqrt(1-n**2*x**2))/(x+sqrt(1-x**2))\n",
    "display(func1)\n",
    "display(limit(func1, x, 0))\n",
    "func2 = (sin(x)/x)**(1/x**2)\n",
    "display(func2)\n",
    "display(limit(func2, x, 0))"
   ]
  },
  {
   "cell_type": "markdown",
   "metadata": {},
   "source": [
    "# **#3.3**"
   ]
  },
  {
   "cell_type": "code",
   "execution_count": 41,
   "metadata": {},
   "outputs": [
    {
     "data": {
      "text/latex": [
       "$\\displaystyle x^{2} \\sin{\\left(2 x \\right)}$"
      ],
      "text/plain": [
       "x**2*sin(2*x)"
      ]
     },
     "metadata": {},
     "output_type": "display_data"
    },
    {
     "data": {
      "text/latex": [
       "$\\displaystyle \\frac{2048 \\left(x^{2} \\sin{\\left(2 x \\right)} - 20 x \\cos{\\left(2 x \\right)} - 95 \\sin{\\left(2 x \\right)}\\right)}{- 2 x^{2} \\sin{\\left(2 x \\right)} - 64 x^{2} \\cos{\\left(2 x \\right)} - 960 x \\sin{\\left(2 x \\right)} + 20 x \\cos{\\left(2 x \\right)} + 45 \\sin{\\left(2 x \\right)} + 3360 \\cos{\\left(2 x \\right)}}$"
      ],
      "text/plain": [
       "2048*(x**2*sin(2*x) - 20*x*cos(2*x) - 95*sin(2*x))/(-2*x**2*sin(2*x) - 64*x**2*cos(2*x) - 960*x*sin(2*x) + 20*x*cos(2*x) + 45*sin(2*x) + 3360*cos(2*x))"
      ]
     },
     "metadata": {},
     "output_type": "display_data"
    }
   ],
   "source": [
    "y = x**2*sin(2*x)\n",
    "display(y)\n",
    "f = diff(y, x, 20)/(diff(y, x, 15) + diff(y, x, 10))\n",
    "display(f.simplify())"
   ]
  },
  {
   "cell_type": "markdown",
   "metadata": {},
   "source": [
    "# **#4.1**"
   ]
  },
  {
   "cell_type": "code",
   "execution_count": 8,
   "metadata": {},
   "outputs": [
    {
     "data": {
      "text/latex": [
       "$\\displaystyle 0$"
      ],
      "text/plain": [
       "0"
      ]
     },
     "execution_count": 8,
     "metadata": {},
     "output_type": "execute_result"
    }
   ],
   "source": [
    "#equality with partial derivatives\n",
    "x, y = symbols('x, y')\n",
    "f = Function('f')(x*y)\n",
    "z = y**2/3/x + f\n",
    "simplify(x**2*diff(z, x) - x*y*diff(z, y) + y**2)"
   ]
  },
  {
   "cell_type": "markdown",
   "metadata": {},
   "source": [
    "# **#5.1**"
   ]
  },
  {
   "cell_type": "code",
   "execution_count": 9,
   "metadata": {},
   "outputs": [
    {
     "data": {
      "text/latex": [
       "$\\displaystyle \\frac{1}{2 \\cos{\\left(t \\right)}}$"
      ],
      "text/plain": [
       "1/(2*cos(t))"
      ]
     },
     "metadata": {},
     "output_type": "display_data"
    }
   ],
   "source": [
    "#parametric function\n",
    "x, y, t = symbols('x y t')\n",
    "x = 2/sin(t)\n",
    "y = cot(t)\n",
    "der1 = simplify(diff(y, t)/diff(x, t))\n",
    "display(der1)"
   ]
  },
  {
   "cell_type": "code",
   "execution_count": 10,
   "metadata": {},
   "outputs": [
    {
     "data": {
      "text/latex": [
       "$\\displaystyle - \\frac{\\tan^{3}{\\left(t \\right)}}{4}$"
      ],
      "text/plain": [
       "-tan(t)**3/4"
      ]
     },
     "metadata": {},
     "output_type": "display_data"
    },
    {
     "data": {
      "text/latex": [
       "$\\displaystyle \\frac{3 \\sin^{4}{\\left(t \\right)}}{8 \\cos^{5}{\\left(t \\right)}}$"
      ],
      "text/plain": [
       "3*sin(t)**4/(8*cos(t)**5)"
      ]
     },
     "metadata": {},
     "output_type": "display_data"
    }
   ],
   "source": [
    "#second and third derivative of y to x of parametric function\n",
    "der2 = simplify(diff(der1, t)/diff(x, t))\n",
    "display(der2)\n",
    "der3 = simplify(diff(der2, t)/diff(x, t))\n",
    "display(der3)"
   ]
  },
  {
   "cell_type": "markdown",
   "metadata": {},
   "source": [
    "# **#6.5**"
   ]
  },
  {
   "cell_type": "code",
   "execution_count": 11,
   "metadata": {},
   "outputs": [
    {
     "data": {
      "text/latex": [
       "$\\displaystyle \\frac{2 \\left(x^{2} \\left(x^{2} \\tan{\\left(\\frac{x^{2}}{y} \\right)} + y\\right) - 2 x y \\left(2 x^{2} \\tan{\\left(\\frac{x^{2}}{y} \\right)} + y\\right) + y^{2} \\left(4 x^{2} \\tan{\\left(\\frac{x^{2}}{y} \\right)} + y\\right)\\right)}{y^{4} \\cos^{2}{\\left(\\frac{x^{2}}{y} \\right)}}$"
      ],
      "text/plain": [
       "2*(x**2*(x**2*tan(x**2/y) + y) - 2*x*y*(2*x**2*tan(x**2/y) + y) + y**2*(4*x**2*tan(x**2/y) + y))/(y**4*cos(x**2/y)**2)"
      ]
     },
     "metadata": {},
     "output_type": "display_data"
    },
    {
     "data": {
      "text/latex": [
       "$\\displaystyle \\frac{2 \\tan{\\left(1 \\right)}}{\\cos^{2}{\\left(1 \\right)}}$"
      ],
      "text/plain": [
       "2*tan(1)/cos(1)**2"
      ]
     },
     "execution_count": 11,
     "metadata": {},
     "output_type": "execute_result"
    }
   ],
   "source": [
    "x, y = symbols('x y')\n",
    "u = tan(x**2/y)\n",
    "v = simplify(diff(u, x, 2) + 2*diff(u ,x, y) + diff(u, y, 2))\n",
    "display(v)\n",
    "v.subs({x: 1, y:1})"
   ]
  },
  {
   "cell_type": "markdown",
   "metadata": {},
   "source": [
    "# **#7**"
   ]
  },
  {
   "cell_type": "code",
   "execution_count": null,
   "metadata": {},
   "outputs": [],
   "source": []
  },
  {
   "cell_type": "markdown",
   "metadata": {},
   "source": [
    "# **#8.5**"
   ]
  },
  {
   "cell_type": "code",
   "execution_count": 12,
   "metadata": {},
   "outputs": [
    {
     "data": {
      "text/latex": [
       "$\\displaystyle 0$"
      ],
      "text/plain": [
       "0"
      ]
     },
     "execution_count": 12,
     "metadata": {},
     "output_type": "execute_result"
    }
   ],
   "source": [
    "u = log(exp(x)*exp(y))\n",
    "simplify(diff(u, x, 2)*diff(u, y, 2) - diff(u, x, y)**2)"
   ]
  },
  {
   "cell_type": "markdown",
   "metadata": {},
   "source": [
    "# **#9.2**"
   ]
  },
  {
   "cell_type": "code",
   "execution_count": 43,
   "metadata": {},
   "outputs": [
    {
     "data": {
      "text/latex": [
       "$\\displaystyle w = \\rho \\left(\\sin{\\left(\\phi \\right)} \\left. \\frac{\\partial}{\\partial x} z{\\left(x,\\rho \\sin{\\left(\\phi \\right)} \\right)} \\right|_{\\substack{ x=\\rho \\cos{\\left(\\phi \\right)} }} + \\cos{\\left(\\phi \\right)} \\left. \\frac{\\partial}{\\partial y} z{\\left(\\rho \\cos{\\left(\\phi \\right)},y \\right)} \\right|_{\\substack{ y=\\rho \\sin{\\left(\\phi \\right)} }}\\right)$"
      ],
      "text/plain": [
       "Eq(w, rho*(sin(phi)*Subs(Derivative(z(x, rho*sin(phi)), x), x, rho*cos(phi)) + cos(phi)*Subs(Derivative(z(rho*cos(phi), y), y), y, rho*sin(phi))))"
      ]
     },
     "execution_count": 43,
     "metadata": {},
     "output_type": "execute_result"
    }
   ],
   "source": [
    "x, y, w = symbols('x y w')\n",
    "phi, rho = symbols('phi, rho')\n",
    "z = Function('z')(x, y)\n",
    "eq = Eq(x*diff(z, y) + y*diff(z, x), w)\n",
    "eq = eq.subs({x: rho*cos(phi), y: rho*sin(phi)})\n",
    "eq.simplify()"
   ]
  },
  {
   "cell_type": "markdown",
   "metadata": {},
   "source": [
    "# **#10.5**"
   ]
  },
  {
   "cell_type": "code",
   "execution_count": 14,
   "metadata": {},
   "outputs": [
    {
     "data": {
      "text/latex": [
       "$\\displaystyle \\sum_{n=1}^{\\infty} \\frac{1}{\\left(2 n - 1\\right) \\left(2 n + 5\\right)}$"
      ],
      "text/plain": [
       "Sum(1/((2*n - 1)*(2*n + 5)), (n, 1, oo))"
      ]
     },
     "metadata": {},
     "output_type": "display_data"
    },
    {
     "data": {
      "text/latex": [
       "$\\displaystyle \\frac{31}{180}$"
      ],
      "text/plain": [
       "31/180"
      ]
     },
     "execution_count": 14,
     "metadata": {},
     "output_type": "execute_result"
    }
   ],
   "source": [
    "n = symbols('n')\n",
    "s0 = Sum(1/(2*n-1)/(2*n+5), (n, 1, oo))\n",
    "display(s0)\n",
    "s0.doit().simplify()"
   ]
  },
  {
   "cell_type": "markdown",
   "metadata": {},
   "source": [
    "# **#11.3**\n",
    "* **1**"
   ]
  },
  {
   "cell_type": "code",
   "execution_count": 15,
   "metadata": {},
   "outputs": [
    {
     "data": {
      "text/latex": [
       "$\\displaystyle \\sum_{n=1}^{\\infty} \\frac{1}{\\left(n + 1\\right) \\log{\\left(n + 1 \\right)}^{2}}$"
      ],
      "text/plain": [
       "Sum(1/((n + 1)*log(n + 1)**2), (n, 1, oo))"
      ]
     },
     "metadata": {},
     "output_type": "display_data"
    },
    {
     "data": {
      "text/latex": [
       "$\\displaystyle \\text{True}$"
      ],
      "text/plain": [
       "True"
      ]
     },
     "metadata": {},
     "output_type": "display_data"
    },
    {
     "data": {
      "text/latex": [
       "$\\displaystyle 2.10655$"
      ],
      "text/plain": [
       "2.10655"
      ]
     },
     "execution_count": 15,
     "metadata": {},
     "output_type": "execute_result"
    }
   ],
   "source": [
    "s1 = Sum(1/(n+1)/log(n+1)**2, (n, 1, oo))\n",
    "display(s1)\n",
    "display(s1.is_convergent())\n",
    "s1.doit().evalf()"
   ]
  },
  {
   "cell_type": "markdown",
   "metadata": {},
   "source": [
    "* **2**"
   ]
  },
  {
   "cell_type": "code",
   "execution_count": 4,
   "metadata": {},
   "outputs": [
    {
     "data": {
      "text/latex": [
       "$\\displaystyle \\sum_{n=1}^{\\infty} \\frac{x^{n}}{\\sqrt{n}}$"
      ],
      "text/plain": [
       "Sum(x**n/sqrt(n), (n, 1, oo))"
      ]
     },
     "metadata": {},
     "output_type": "display_data"
    },
    {
     "data": {
      "text/latex": [
       "$\\displaystyle \\text{True}$"
      ],
      "text/plain": [
       "True"
      ]
     },
     "metadata": {},
     "output_type": "display_data"
    },
    {
     "data": {
      "text/latex": [
       "$\\displaystyle \\text{False}$"
      ],
      "text/plain": [
       "False"
      ]
     },
     "execution_count": 4,
     "metadata": {},
     "output_type": "execute_result"
    }
   ],
   "source": [
    "x = Symbol('x', positive=True)\n",
    "s2 =Sum(x**n/sqrt(n), (n, 1, oo))\n",
    "display(s2)\n",
    "display(Sum(0.99**n/sqrt(n), (n, 1, oo)).is_convergent())\n",
    "#display(Sum(0.99**n/sqrt(n), (n, 1, oo)).doit().evalf())\n",
    "Sum(1.01**n/sqrt(n), (n, 1, oo)).is_convergent()"
   ]
  },
  {
   "cell_type": "markdown",
   "metadata": {},
   "source": [
    "* **3**"
   ]
  },
  {
   "cell_type": "code",
   "execution_count": 5,
   "metadata": {},
   "outputs": [
    {
     "data": {
      "text/latex": [
       "$\\displaystyle \\sum_{n=1}^{\\infty} \\frac{x^{n}}{n^{2}}$"
      ],
      "text/plain": [
       "Sum(x**n/n**2, (n, 1, oo))"
      ]
     },
     "metadata": {},
     "output_type": "display_data"
    },
    {
     "data": {
      "text/latex": [
       "$\\displaystyle \\text{True}$"
      ],
      "text/plain": [
       "True"
      ]
     },
     "metadata": {},
     "output_type": "display_data"
    },
    {
     "data": {
      "text/latex": [
       "$\\displaystyle \\text{False}$"
      ],
      "text/plain": [
       "False"
      ]
     },
     "metadata": {},
     "output_type": "display_data"
    }
   ],
   "source": [
    "s3 = Sum(x**n/n**2, (n,1,oo))\n",
    "display(s3)\n",
    "display(Sum(0.99**n/n**2, (n,1,oo)).is_convergent())\n",
    "#display(Sum(0.99**n/n**2, (n,1,oo)).doit())\n",
    "display(Sum(1.01**n/n**2, (n,1,oo)).is_convergent())"
   ]
  },
  {
   "cell_type": "markdown",
   "metadata": {},
   "source": [
    "# **#12.1**"
   ]
  },
  {
   "cell_type": "code",
   "execution_count": 18,
   "metadata": {},
   "outputs": [
    {
     "data": {
      "text/latex": [
       "$\\displaystyle 1 - \\frac{x}{2} + \\frac{x^{2}}{12} + O\\left(x^{4}\\right)$"
      ],
      "text/plain": [
       "1 - x/2 + x**2/12 + O(x**4)"
      ]
     },
     "execution_count": 18,
     "metadata": {},
     "output_type": "execute_result"
    }
   ],
   "source": [
    "f = x/(exp(x)-1)\n",
    "f.series(n=4)"
   ]
  },
  {
   "cell_type": "markdown",
   "metadata": {},
   "source": [
    "# **#13.3**"
   ]
  },
  {
   "cell_type": "code",
   "execution_count": 45,
   "metadata": {},
   "outputs": [
    {
     "data": {
      "text/latex": [
       "$\\displaystyle - \\frac{x^{4} y^{3}}{144} + \\frac{x^{4} y}{24} - \\frac{x^{3} y^{3}}{36} + \\frac{x^{3} y}{6} - \\frac{x^{2} y^{3}}{12} + \\frac{x^{2} y}{2} - \\frac{x y^{3}}{6} + x y - \\frac{y^{3}}{6} + y$"
      ],
      "text/plain": [
       "-x**4*y**3/144 + x**4*y/24 - x**3*y**3/36 + x**3*y/6 - x**2*y**3/12 + x**2*y/2 - x*y**3/6 + x*y - y**3/6 + y"
      ]
     },
     "execution_count": 45,
     "metadata": {},
     "output_type": "execute_result"
    }
   ],
   "source": [
    "x, y = symbols('x y')\n",
    "f = exp(x)*sin(y)\n",
    "f.series(x, 0, 5).removeO().series(y, 0, 5).removeO().expand()"
   ]
  },
  {
   "cell_type": "markdown",
   "metadata": {},
   "source": [
    "# **#14.2**\n",
    "* **1**"
   ]
  },
  {
   "cell_type": "code",
   "execution_count": 20,
   "metadata": {},
   "outputs": [
    {
     "data": {
      "text/latex": [
       "$\\displaystyle - \\frac{x^{3}}{9} - \\frac{5 x^{2}}{4} + \\left(\\frac{x^{3}}{3} + \\frac{5 x^{2}}{2}\\right) \\log{\\left(x \\right)}$"
      ],
      "text/plain": [
       "-x**3/9 - 5*x**2/4 + (x**3/3 + 5*x**2/2)*log(x)"
      ]
     },
     "execution_count": 20,
     "metadata": {},
     "output_type": "execute_result"
    }
   ],
   "source": [
    "f1 = (x**2 + 5*x)*log(x)\n",
    "integrate(f1)"
   ]
  },
  {
   "cell_type": "markdown",
   "metadata": {},
   "source": [
    "* **2**"
   ]
  },
  {
   "cell_type": "code",
   "execution_count": 32,
   "metadata": {},
   "outputs": [
    {
     "data": {
      "text/latex": [
       "$\\displaystyle \\frac{- 2 \\operatorname{atan}{\\left(\\frac{\\tan{\\left(\\frac{x}{2} \\right)}}{\\sqrt{2 - \\sqrt{3}}} \\right)} + \\sqrt{3} \\operatorname{atan}{\\left(\\frac{\\tan{\\left(\\frac{x}{2} \\right)}}{\\sqrt{2 - \\sqrt{3}}} \\right)} - 2 \\operatorname{atan}{\\left(\\frac{\\tan{\\left(\\frac{x}{2} \\right)}}{\\sqrt{\\sqrt{3} + 2}} \\right)} + \\sqrt{3} \\operatorname{atan}{\\left(\\frac{\\tan{\\left(\\frac{x}{2} \\right)}}{\\sqrt{\\sqrt{3} + 2}} \\right)} - 4 \\pi \\left\\lfloor{\\frac{x}{2 \\pi} - \\frac{1}{2}}\\right\\rfloor + 2 \\sqrt{3} \\pi \\left\\lfloor{\\frac{x}{2 \\pi} - \\frac{1}{2}}\\right\\rfloor}{\\left(-9 + 5 \\sqrt{3}\\right) \\sqrt{\\sqrt{3} + 2}}$"
      ],
      "text/plain": [
       "(-2*atan(tan(x/2)/sqrt(2 - sqrt(3))) + sqrt(3)*atan(tan(x/2)/sqrt(2 - sqrt(3))) - 2*atan(tan(x/2)/sqrt(sqrt(3) + 2)) + sqrt(3)*atan(tan(x/2)/sqrt(sqrt(3) + 2)) - 4*pi*floor(x/(2*pi) - 1/2) + 2*sqrt(3)*pi*floor(x/(2*pi) - 1/2))/((-9 + 5*sqrt(3))*sqrt(sqrt(3) + 2))"
      ]
     },
     "execution_count": 32,
     "metadata": {},
     "output_type": "execute_result"
    }
   ],
   "source": [
    "f2 = 1/(2*cos(x)**2+3*sin(x)**2)\n",
    "integrate(f2).simplify()"
   ]
  },
  {
   "cell_type": "markdown",
   "metadata": {},
   "source": [
    "* **3**"
   ]
  },
  {
   "cell_type": "code",
   "execution_count": 22,
   "metadata": {},
   "outputs": [
    {
     "data": {
      "text/latex": [
       "$\\displaystyle \\sqrt{2 x + 1} - \\log{\\left(\\sqrt{2 x + 1} + 1 \\right)}$"
      ],
      "text/plain": [
       "sqrt(2*x + 1) - log(sqrt(2*x + 1) + 1)"
      ]
     },
     "execution_count": 22,
     "metadata": {},
     "output_type": "execute_result"
    }
   ],
   "source": [
    "f3 = 1/(1+sqrt(2*x+1))\n",
    "integrate(f3)"
   ]
  },
  {
   "cell_type": "markdown",
   "metadata": {},
   "source": [
    "# **#15.2**\n",
    "* **1**"
   ]
  },
  {
   "cell_type": "code",
   "execution_count": 23,
   "metadata": {},
   "outputs": [
    {
     "data": {
      "text/latex": [
       "$\\displaystyle - \\pi - 2 \\log{\\left(4 \\right)} - \\frac{7 \\pi^{2}}{72} + 2 \\log{\\left(2 \\right)} + \\frac{4 \\sqrt{3} \\pi}{3}$"
      ],
      "text/plain": [
       "-pi - 2*log(4) - 7*pi**2/72 + 2*log(2) + 4*sqrt(3)*pi/3"
      ]
     },
     "execution_count": 23,
     "metadata": {},
     "output_type": "execute_result"
    }
   ],
   "source": [
    "f1 = 4*x*tan(x)**2\n",
    "integrate(f1, (x, pi/4, pi/3))"
   ]
  },
  {
   "cell_type": "markdown",
   "metadata": {},
   "source": [
    "* **2**"
   ]
  },
  {
   "cell_type": "code",
   "execution_count": 24,
   "metadata": {},
   "outputs": [
    {
     "data": {
      "text/latex": [
       "$\\displaystyle \\frac{1}{5}$"
      ],
      "text/plain": [
       "1/5"
      ]
     },
     "execution_count": 24,
     "metadata": {},
     "output_type": "execute_result"
    }
   ],
   "source": [
    "f2 = exp(-4*x)*cos(2*x)\n",
    "integrate(f2, (x, 0, oo))"
   ]
  },
  {
   "cell_type": "markdown",
   "metadata": {},
   "source": [
    "* **3**"
   ]
  },
  {
   "cell_type": "code",
   "execution_count": 25,
   "metadata": {},
   "outputs": [
    {
     "data": {
      "text/latex": [
       "$\\displaystyle \\infty$"
      ],
      "text/plain": [
       "oo"
      ]
     },
     "execution_count": 25,
     "metadata": {},
     "output_type": "execute_result"
    }
   ],
   "source": [
    "f3 = 1/(1+cos(x))\n",
    "integrate(f3, (x, 3*pi/4, pi))"
   ]
  },
  {
   "cell_type": "markdown",
   "metadata": {},
   "source": [
    "# **#16.4**"
   ]
  },
  {
   "cell_type": "code",
   "execution_count": 26,
   "metadata": {},
   "outputs": [
    {
     "data": {
      "text/latex": [
       "$\\displaystyle \\frac{165}{128} - \\log{\\left(2 \\right)}$"
      ],
      "text/plain": [
       "165/128 - log(2)"
      ]
     },
     "execution_count": 26,
     "metadata": {},
     "output_type": "execute_result"
    }
   ],
   "source": [
    "integrate(x*y, (y, 1/x, -x+Rational(5,2)), (x, Rational(1,2), 2))"
   ]
  },
  {
   "cell_type": "markdown",
   "metadata": {},
   "source": [
    "# **#17.2**"
   ]
  },
  {
   "cell_type": "code",
   "execution_count": 7,
   "metadata": {},
   "outputs": [
    {
     "data": {
      "text/latex": [
       "$\\displaystyle \\frac{2}{9}$"
      ],
      "text/plain": [
       "2/9"
      ]
     },
     "execution_count": 7,
     "metadata": {},
     "output_type": "execute_result"
    }
   ],
   "source": [
    "x, y, z = symbols('x y z')\n",
    "integrate(x + y*z, (z, 0, y), (y, x**2, 1), (x, -1, 1))"
   ]
  },
  {
   "cell_type": "markdown",
   "metadata": {},
   "source": [
    "# #18.4"
   ]
  },
  {
   "cell_type": "code",
   "execution_count": 6,
   "metadata": {},
   "outputs": [
    {
     "data": {
      "text/latex": [
       "$\\displaystyle 4 \\sqrt{4 \\sin^{2}{\\left(t \\right)} + 4 \\cos^{2}{\\left(t \\right)}} \\cos^{2}{\\left(t \\right)}$"
      ],
      "text/plain": [
       "4*sqrt(4*sin(t)**2 + 4*cos(t)**2)*cos(t)**2"
      ]
     },
     "metadata": {},
     "output_type": "display_data"
    },
    {
     "data": {
      "text/latex": [
       "$\\displaystyle 4 \\pi$"
      ],
      "text/plain": [
       "4*pi"
      ]
     },
     "execution_count": 6,
     "metadata": {},
     "output_type": "execute_result"
    }
   ],
   "source": [
    "'''\n",
    "x^2 + y^2 = 4\n",
    "parametric:\n",
    "x = 2*cos(t)\n",
    "y = 2=sin(t)\n",
    "0<=t<=2*pi\n",
    "'''\n",
    "t = symbols('t')\n",
    "x = 2*cos(t)\n",
    "y = 2*sin(t)\n",
    "f = x**2*sqrt(diff(x)**2 + diff(y)**2)\n",
    "display(f)\n",
    "integrate(f, (t, 0, pi))"
   ]
  },
  {
   "cell_type": "markdown",
   "metadata": {},
   "source": [
    "# #19.2"
   ]
  },
  {
   "cell_type": "code",
   "execution_count": null,
   "metadata": {},
   "outputs": [],
   "source": []
  }
 ],
 "metadata": {
  "kernelspec": {
   "display_name": "Python 3",
   "language": "python",
   "name": "python3"
  },
  "language_info": {
   "codemirror_mode": {
    "name": "ipython",
    "version": 3
   },
   "file_extension": ".py",
   "mimetype": "text/x-python",
   "name": "python",
   "nbconvert_exporter": "python",
   "pygments_lexer": "ipython3",
   "version": "3.7.6"
  }
 },
 "nbformat": 4,
 "nbformat_minor": 2
}
