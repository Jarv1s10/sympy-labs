{
 "cells": [
  {
   "cell_type": "code",
   "execution_count": 74,
   "metadata": {},
   "outputs": [],
   "source": [
    "from sympy import *\n",
    "from IPython.display import display"
   ]
  },
  {
   "cell_type": "markdown",
   "metadata": {},
   "source": [
    "# **#1**"
   ]
  },
  {
   "cell_type": "code",
   "execution_count": 75,
   "metadata": {},
   "outputs": [
    {
     "data": {
      "text/latex": [
       "$\\displaystyle \\left\\{\\left( - 8 t_{3} + 5 t_{4} - 1, \\  - 13 t_{3} + 5 t_{4} - 3, \\  t_{3}, \\  t_{4}\\right)\\right\\}$"
      ],
      "text/plain": [
       "FiniteSet((-8*t3 + 5*t4 - 1, -13*t3 + 5*t4 - 3, t3, t4))"
      ]
     },
     "metadata": {},
     "output_type": "display_data"
    }
   ],
   "source": [
    "t1, t2, t3, t4 = symbols('t1 t2 t3 t4')\n",
    "A = Matrix(([2, -1, 3, -5, 1], [1, -1, -5, 0, 2], [3, -2, -2, -5, 3]))\n",
    "res = linsolve(A, (t1,t2,t3,t4))\n",
    "display(res)"
   ]
  },
  {
   "cell_type": "code",
   "execution_count": 76,
   "metadata": {},
   "outputs": [
    {
     "data": {
      "text/latex": [
       "$\\displaystyle 234 t_{3}^{2} - 210 t_{3} t_{4} + 94 t_{3} + 51 t_{4}^{2} - 40 t_{4} + 10$"
      ],
      "text/plain": [
       "234*t3**2 - 210*t3*t4 + 94*t3 + 51*t4**2 - 40*t4 + 10"
      ]
     },
     "execution_count": 76,
     "metadata": {},
     "output_type": "execute_result"
    }
   ],
   "source": [
    "norm = sum([el**2 for i in res for el in i]).simplify()\n",
    "norm"
   ]
  },
  {
   "cell_type": "code",
   "execution_count": 81,
   "metadata": {},
   "outputs": [
    {
     "data": {
      "text/latex": [
       "$\\displaystyle \\frac{35 t_{4}}{78} + \\frac{\\sqrt{- 909 t_{4}^{2} - 510 t_{4} + 103}}{234} - \\frac{47}{234}$"
      ],
      "text/plain": [
       "35*t4/78 + sqrt(-909*t4**2 - 510*t4 + 103)/234 - 47/234"
      ]
     },
     "execution_count": 81,
     "metadata": {},
     "output_type": "execute_result"
    }
   ],
   "source": [
    "newt3 = solve(norm-1)[1][t3]\n",
    "newt3"
   ]
  },
  {
   "cell_type": "code",
   "execution_count": 82,
   "metadata": {},
   "outputs": [
    {
     "data": {
      "text/latex": [
       "$\\displaystyle \\left\\{\\left( \\frac{55 t_{4}}{39} - \\frac{4 \\sqrt{- 909 t_{4}^{2} - 510 t_{4} + 103}}{117} + \\frac{71}{117}, \\  - \\frac{5 t_{4}}{6} - \\frac{\\sqrt{- 909 t_{4}^{2} - 510 t_{4} + 103}}{18} - \\frac{7}{18}, \\  \\frac{35 t_{4}}{78} + \\frac{\\sqrt{- 909 t_{4}^{2} - 510 t_{4} + 103}}{234} - \\frac{47}{234}, \\  t_{4}\\right)\\right\\}$"
      ],
      "text/plain": [
       "FiniteSet((55*t4/39 - 4*sqrt(-909*t4**2 - 510*t4 + 103)/117 + 71/117, -5*t4/6 - sqrt(-909*t4**2 - 510*t4 + 103)/18 - 7/18, 35*t4/78 + sqrt(-909*t4**2 - 510*t4 + 103)/234 - 47/234, t4))"
      ]
     },
     "execution_count": 82,
     "metadata": {},
     "output_type": "execute_result"
    }
   ],
   "source": [
    "res = res.subs({t3: newt3})\n",
    "res #vector-result with norm 1"
   ]
  },
  {
   "cell_type": "code",
   "execution_count": 79,
   "metadata": {},
   "outputs": [
    {
     "data": {
      "text/latex": [
       "$\\displaystyle \\left[\\begin{matrix}0\\\\0\\\\0\\end{matrix}\\right]$"
      ],
      "text/plain": [
       "Matrix([\n",
       "[0],\n",
       "[0],\n",
       "[0]])"
      ]
     },
     "execution_count": 79,
     "metadata": {},
     "output_type": "execute_result"
    }
   ],
   "source": [
    "res1 = Matrix(list(list(res)[0]))\n",
    "A1 = Matrix(([2, -1, 3, -5], [1, -1, -5, 0], [3, -2, -2, -5]))\n",
    "b = Matrix([1,2,3])\n",
    "A1*res1 - b #check if res is indeed sovling a system"
   ]
  },
  {
   "cell_type": "markdown",
   "metadata": {},
   "source": [
    "# **#2**"
   ]
  },
  {
   "cell_type": "code",
   "execution_count": 7,
   "metadata": {},
   "outputs": [
    {
     "data": {
      "text/latex": [
       "$\\displaystyle -1.07809905617364$"
      ],
      "text/plain": [
       "-1.07809905617364"
      ]
     },
     "metadata": {},
     "output_type": "display_data"
    },
    {
     "data": {
      "text/latex": [
       "$\\displaystyle 1.10658778548484$"
      ],
      "text/plain": [
       "1.10658778548484"
      ]
     },
     "metadata": {},
     "output_type": "display_data"
    },
    {
     "data": {
      "text/latex": [
       "$\\displaystyle -0.851902335636978 - 0.830679280744092 i$"
      ],
      "text/plain": [
       "-0.851902335636978 - 0.830679280744092*I"
      ]
     },
     "metadata": {},
     "output_type": "display_data"
    },
    {
     "data": {
      "text/latex": [
       "$\\displaystyle -0.851902335636978 + 0.830679280744092 i$"
      ],
      "text/plain": [
       "-0.851902335636978 + 0.830679280744092*I"
      ]
     },
     "metadata": {},
     "output_type": "display_data"
    },
    {
     "data": {
      "text/latex": [
       "$\\displaystyle 0.682041348512646 - 0.672855966094023 i$"
      ],
      "text/plain": [
       "0.682041348512646 - 0.672855966094023*I"
      ]
     },
     "metadata": {},
     "output_type": "display_data"
    },
    {
     "data": {
      "text/latex": [
       "$\\displaystyle 0.682041348512646 + 0.672855966094023 i$"
      ],
      "text/plain": [
       "0.682041348512646 + 0.672855966094023*I"
      ]
     },
     "metadata": {},
     "output_type": "display_data"
    },
    {
     "data": {
      "text/latex": [
       "$\\displaystyle 0.155616622468731 - 1.12507260037776 i$"
      ],
      "text/plain": [
       "0.155616622468731 - 1.12507260037776*I"
      ]
     },
     "metadata": {},
     "output_type": "display_data"
    },
    {
     "data": {
      "text/latex": [
       "$\\displaystyle 0.155616622468731 + 1.12507260037776 i$"
      ],
      "text/plain": [
       "0.155616622468731 + 1.12507260037776*I"
      ]
     },
     "metadata": {},
     "output_type": "display_data"
    }
   ],
   "source": [
    "x = symbols('x')\n",
    "for res in solve(x**8 - x**3 + x - 2, x):\n",
    "    display(res.evalf())"
   ]
  },
  {
   "cell_type": "markdown",
   "metadata": {},
   "source": [
    "# **#3**"
   ]
  },
  {
   "cell_type": "code",
   "execution_count": 8,
   "metadata": {},
   "outputs": [
    {
     "data": {
      "text/latex": [
       "$\\displaystyle -7$"
      ],
      "text/plain": [
       "-7"
      ]
     },
     "metadata": {},
     "output_type": "display_data"
    },
    {
     "data": {
      "text/latex": [
       "$\\displaystyle \\frac{1}{3}$"
      ],
      "text/plain": [
       "1/3"
      ]
     },
     "metadata": {},
     "output_type": "display_data"
    },
    {
     "data": {
      "text/latex": [
       "$\\displaystyle \\frac{1}{2}$"
      ],
      "text/plain": [
       "1/2"
      ]
     },
     "metadata": {},
     "output_type": "display_data"
    }
   ],
   "source": [
    "poly = 6*x**5 + 37*x**4 - 52*x**3 - 104*x**2 + 102*x - 21\n",
    "for res in solve(poly):\n",
    "    if res.is_Rational:\n",
    "        display(res)"
   ]
  },
  {
   "cell_type": "markdown",
   "metadata": {},
   "source": [
    "# **#4**"
   ]
  },
  {
   "cell_type": "code",
   "execution_count": 9,
   "metadata": {},
   "outputs": [
    {
     "data": {
      "text/latex": [
       "$\\displaystyle \\left\\{\\left( -7, \\  -3\\right), \\left( 7, \\  3\\right)\\right\\}$"
      ],
      "text/plain": [
       "FiniteSet((-7, -3), (7, 3))"
      ]
     },
     "execution_count": 9,
     "metadata": {},
     "output_type": "execute_result"
    }
   ],
   "source": [
    "x, y = symbols('x y')\n",
    "nonlinsolve([y**2 - x*y +12, x**2 - x*y - 28], (x, y))"
   ]
  },
  {
   "cell_type": "markdown",
   "metadata": {},
   "source": [
    "# **#5**"
   ]
  },
  {
   "cell_type": "code",
   "execution_count": 10,
   "metadata": {},
   "outputs": [
    {
     "data": {
      "text/latex": [
       "$\\displaystyle - \\frac{\\pi}{4}$"
      ],
      "text/plain": [
       "-pi/4"
      ]
     },
     "metadata": {},
     "output_type": "display_data"
    },
    {
     "data": {
      "text/latex": [
       "$\\displaystyle \\frac{3 \\pi}{4}$"
      ],
      "text/plain": [
       "3*pi/4"
      ]
     },
     "metadata": {},
     "output_type": "display_data"
    }
   ],
   "source": [
    "for res in solve(x**2*sin(x) + sin(x) + x**2*cos(x) + cos(x)):\n",
    "    if not res.find(I):\n",
    "        display(res)"
   ]
  },
  {
   "cell_type": "markdown",
   "metadata": {},
   "source": [
    "# **#6**"
   ]
  },
  {
   "cell_type": "code",
   "execution_count": 85,
   "metadata": {},
   "outputs": [
    {
     "data": {
      "text/latex": [
       "$\\displaystyle \\frac{2 \\left(6 - i\\right) \\left(- n^{2} - 2 n + \\left(-2 - i\\right)^{n} - 1\\right)}{37}$"
      ],
      "text/plain": [
       "2*(6 - I)*(-n**2 - 2*n + (-2 - I)**n - 1)/37"
      ]
     },
     "metadata": {},
     "output_type": "display_data"
    },
    {
     "data": {
      "text/latex": [
       "$\\displaystyle - \\frac{112890768}{37} + \\frac{37031264 i}{37}$"
      ],
      "text/plain": [
       "-112890768/37 + 37031264*I/37"
      ]
     },
     "metadata": {},
     "output_type": "display_data"
    },
    {
     "data": {
      "text/latex": [
       "$\\displaystyle - \\frac{1878691815054805888}{37} - \\frac{3100896269727192516 i}{37}$"
      ],
      "text/plain": [
       "-1878691815054805888/37 - 3100896269727192516*I/37"
      ]
     },
     "metadata": {},
     "output_type": "display_data"
    }
   ],
   "source": [
    "f = Function('f')\n",
    "n = Symbol('n', integer=True)\n",
    "y = Function('y')\n",
    "f = y(n+1) + 4*y(n) + 5*y(n-1) + n**2\n",
    "res = simplify(rsolve(f, y(n), {y(0): 0, y(1): -2}))\n",
    "display(res)\n",
    "display(res.subs({n: 20}).simplify())\n",
    "display(res.subs({n: 50}).simplify())\n"
   ]
  },
  {
   "cell_type": "markdown",
   "metadata": {},
   "source": [
    "# **#7**"
   ]
  },
  {
   "cell_type": "code",
   "execution_count": 12,
   "metadata": {},
   "outputs": [
    {
     "data": {
      "text/latex": [
       "$\\displaystyle \\frac{3}{2} < x \\wedge x < 2$"
      ],
      "text/plain": [
       "(3/2 < x) & (x < 2)"
      ]
     },
     "execution_count": 12,
     "metadata": {},
     "output_type": "execute_result"
    }
   ],
   "source": [
    "solve(2*(x-3)*(1-2*x)>6)"
   ]
  },
  {
   "cell_type": "markdown",
   "metadata": {},
   "source": [
    "# **#8**"
   ]
  },
  {
   "cell_type": "code",
   "execution_count": 88,
   "metadata": {},
   "outputs": [
    {
     "data": {
      "text/latex": [
       "$\\displaystyle \\left(\\left(-\\infty < x \\wedge x < -3\\right) \\vee \\left(3 < x \\wedge x < 15\\right)\\right) \\wedge 0 < x \\wedge x < \\infty$"
      ],
      "text/plain": [
       "(0 < x) & (x < oo) & (((-oo < x) & (x < -3)) | ((3 < x) & (x < 15)))"
      ]
     },
     "execution_count": 88,
     "metadata": {},
     "output_type": "execute_result"
    }
   ],
   "source": [
    "(solve([(x+3)*(x-3)*(x-15)<0, abs(x+6)-abs(x-3)>3]))"
   ]
  },
  {
   "cell_type": "markdown",
   "metadata": {},
   "source": [
    "# **#9**"
   ]
  },
  {
   "cell_type": "code",
   "execution_count": 14,
   "metadata": {},
   "outputs": [
    {
     "data": {
      "text/latex": [
       "$\\displaystyle y{\\left(x \\right)} = - x \\sqrt{C_{1} - 4 \\log{\\left(x \\right)}}$"
      ],
      "text/plain": [
       "Eq(y(x), -x*sqrt(C1 - 4*log(x)))"
      ]
     },
     "metadata": {},
     "output_type": "display_data"
    },
    {
     "data": {
      "text/latex": [
       "$\\displaystyle y{\\left(x \\right)} = x \\sqrt{C_{1} - 4 \\log{\\left(x \\right)}}$"
      ],
      "text/plain": [
       "Eq(y(x), x*sqrt(C1 - 4*log(x)))"
      ]
     },
     "metadata": {},
     "output_type": "display_data"
    }
   ],
   "source": [
    "x = symbols('x')\n",
    "y = Function('y')(x)\n",
    "y_ = diff(y)\n",
    "for eq in dsolve(x*y*y_ - y**2 + 2*x**2):\n",
    "    display(eq)"
   ]
  },
  {
   "cell_type": "markdown",
   "metadata": {},
   "source": [
    "# **#10**"
   ]
  },
  {
   "cell_type": "code",
   "execution_count": 33,
   "metadata": {},
   "outputs": [
    {
     "data": {
      "text/latex": [
       "$\\displaystyle \\left(y^{2}{\\left(x \\right)} - \\log{\\left(x \\right)}\\right) \\frac{d}{d x} y{\\left(x \\right)} + \\frac{y{\\left(x \\right)}}{x}$"
      ],
      "text/plain": [
       "(y(x)**2 - log(x))*Derivative(y(x), x) + y(x)/x"
      ]
     },
     "metadata": {},
     "output_type": "display_data"
    },
    {
     "data": {
      "text/latex": [
       "$\\displaystyle y{\\left(x \\right)} = \\frac{C_{1}}{2} - \\frac{\\sqrt{C_{1}^{2} - 4 \\log{\\left(x \\right)}}}{2}$"
      ],
      "text/plain": [
       "Eq(y(x), C1/2 - sqrt(C1**2 - 4*log(x))/2)"
      ]
     },
     "metadata": {},
     "output_type": "display_data"
    },
    {
     "data": {
      "text/latex": [
       "$\\displaystyle y{\\left(x \\right)} = \\frac{C_{1}}{2} + \\frac{\\sqrt{C_{1}^{2} - 4 \\log{\\left(x \\right)}}}{2}$"
      ],
      "text/plain": [
       "Eq(y(x), C1/2 + sqrt(C1**2 - 4*log(x))/2)"
      ]
     },
     "metadata": {},
     "output_type": "display_data"
    }
   ],
   "source": [
    "x = Symbol('x')\n",
    "y = Function('y')(x)\n",
    "eq = y/x + (y**2 -log(x))*y.diff()\n",
    "display(eq)\n",
    "for r, i in zip(dsolve(eq), range(1,3)):\n",
    "    display(r)"
   ]
  },
  {
   "cell_type": "markdown",
   "metadata": {},
   "source": [
    "# **#11**"
   ]
  },
  {
   "cell_type": "code",
   "execution_count": 34,
   "metadata": {},
   "outputs": [
    {
     "data": {
      "text/latex": [
       "$\\displaystyle x{\\left(t \\right)} = - C_{1} + C_{2} e^{t} + C_{3} t e^{t} + C_{3} e^{t}$"
      ],
      "text/plain": [
       "Eq(x(t), -C1 + C2*exp(t) + C3*t*exp(t) + C3*exp(t))"
      ]
     },
     "metadata": {},
     "output_type": "display_data"
    },
    {
     "data": {
      "text/latex": [
       "$\\displaystyle y{\\left(t \\right)} = - 3 C_{1} + C_{2} e^{t} + C_{3} t e^{t}$"
      ],
      "text/plain": [
       "Eq(y(t), -3*C1 + C2*exp(t) + C3*t*exp(t))"
      ]
     },
     "metadata": {},
     "output_type": "display_data"
    },
    {
     "data": {
      "text/latex": [
       "$\\displaystyle z{\\left(t \\right)} = C_{1} + C_{3} e^{t}$"
      ],
      "text/plain": [
       "Eq(z(t), C1 + C3*exp(t))"
      ]
     },
     "metadata": {},
     "output_type": "display_data"
    }
   ],
   "source": [
    "x, y, z = symbols('x y z', cls=Function)\n",
    "t = symbols('t')\n",
    "for eq in dsolve([x(t).diff() - 2*x(t) + z(t) + y(t), y(t).diff() - 3*x(t) + 2*y(t) + 3*z(t), z(t).diff() - 2*z(t) + x(t) - y(t)]):\n",
    "    display(eq.simplify())"
   ]
  },
  {
   "cell_type": "markdown",
   "metadata": {},
   "source": [
    "# **#12**"
   ]
  },
  {
   "cell_type": "code",
   "execution_count": 35,
   "metadata": {},
   "outputs": [],
   "source": []
  },
  {
   "cell_type": "code",
   "execution_count": 36,
   "metadata": {},
   "outputs": [
    {
     "data": {
      "text/latex": [
       "$\\displaystyle y{\\left(x \\right)} = \\log{\\left(e^{3 x} + 1 \\right)} + e^{- 3 x} \\log{\\left(e^{3 x} + 1 \\right)}$"
      ],
      "text/plain": [
       "Eq(y(x), log(exp(3*x) + 1) + exp(-3*x)*log(exp(3*x) + 1))"
      ]
     },
     "execution_count": 36,
     "metadata": {},
     "output_type": "execute_result"
    }
   ],
   "source": [
    "res = dsolve(y.diff(x, x) + 3*y.diff(x) - 9*exp(3*x)/(1+exp(3*x)), ics = {y.subs(x, 0): log(4), y.diff(x).subs(x, 0): 3*(1-log(2))})\n",
    "res"
   ]
  },
  {
   "cell_type": "markdown",
   "metadata": {},
   "source": [
    "# **#13**"
   ]
  },
  {
   "cell_type": "code",
   "execution_count": null,
   "metadata": {},
   "outputs": [],
   "source": []
  },
  {
   "cell_type": "markdown",
   "metadata": {},
   "source": [
    "# **#14**"
   ]
  },
  {
   "cell_type": "code",
   "execution_count": null,
   "metadata": {},
   "outputs": [],
   "source": []
  },
  {
   "cell_type": "markdown",
   "metadata": {},
   "source": [
    "# **#15**"
   ]
  },
  {
   "cell_type": "code",
   "execution_count": null,
   "metadata": {},
   "outputs": [],
   "source": []
  }
 ],
 "metadata": {
  "kernelspec": {
   "display_name": "Python 3",
   "language": "python",
   "name": "python3"
  },
  "language_info": {
   "codemirror_mode": {
    "name": "ipython",
    "version": 3
   },
   "file_extension": ".py",
   "mimetype": "text/x-python",
   "name": "python",
   "nbconvert_exporter": "python",
   "pygments_lexer": "ipython3",
   "version": "3.7.6"
  }
 },
 "nbformat": 4,
 "nbformat_minor": 2
}
